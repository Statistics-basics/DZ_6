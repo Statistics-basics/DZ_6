{
 "cells": [
  {
   "cell_type": "code",
   "execution_count": 44,
   "metadata": {},
   "outputs": [],
   "source": [
    "# Загружаем бибилотеки:\n",
    "# для работы с математикой\n",
    "import numpy as np  \n",
    "# для работы со статистикой\n",
    "from scipy import stats\n",
    "# для построения графиков\n",
    "import matplotlib.pyplot as plt\n",
    "# для работы с массивами данных\n",
    "import pandas as pd"
   ]
  },
  {
   "cell_type": "markdown",
   "metadata": {},
   "source": [
    "### Задание 0"
   ]
  },
  {
   "cell_type": "code",
   "execution_count": 112,
   "metadata": {},
   "outputs": [
    {
     "name": "stdout",
     "output_type": "stream",
     "text": [
      "Необходимый объём выборки n = 97\n"
     ]
    }
   ],
   "source": [
    "# Исходные данные:\n",
    "Δ = 3 # Требуемая погрешность\n",
    "D = 225 # Дисперсия\n",
    "𝛽 = 0.95 # Уровень доверия\n",
    "\n",
    "# Для двустороннего интервала нужно к уровню доверия добавить ещё половину от уровня значимости\n",
    "Z = stats.norm.ppf((1 + 𝛽) / 2) # Квантиль нормального распределения\n",
    "# Считаем необходимый объём выборки для известного стондартного отклонения\n",
    "# Округляем вверх\n",
    "n = np.ceil(((Z * D ** 0.5) / Δ) ** 2)\n",
    "print (f'Необходимый объём выборки n = {int(n)}')"
   ]
  },
  {
   "cell_type": "markdown",
   "metadata": {},
   "source": [
    "### Задание 1"
   ]
  },
  {
   "cell_type": "code",
   "execution_count": 111,
   "metadata": {},
   "outputs": [
    {
     "name": "stdout",
     "output_type": "stream",
     "text": [
      "Длина доверительного интервала L = 13\n"
     ]
    }
   ],
   "source": [
    "# Исходные данные:\n",
    "𝛽 = 0.98 # Уровень доверия\n",
    "n = 25 # Объём выборки \n",
    "x_mean = 130 # Cреднее значение по выборке\n",
    "𝜎 = 15 # Стандартное отклонение\n",
    "\n",
    "# Квантиль нормального распределения\n",
    "Z = stats.norm.ppf((1 + 𝛽) / 2)\n",
    "# Считаем погрешность для среднего с известной дисперсией\n",
    "Δ = (𝜎 / (n ** 0.5)) * Z\n",
    "# Длина доверительного интервала\n",
    "L = round(2 * Δ, 2)\n",
    "print (f'Длина доверительного интервала L = {int(L)}')"
   ]
  },
  {
   "cell_type": "markdown",
   "metadata": {},
   "source": [
    "### Задание 2"
   ]
  },
  {
   "cell_type": "code",
   "execution_count": 151,
   "metadata": {},
   "outputs": [
    {
     "data": {
      "image/png": "[encoded data removed]",
      "text/plain": [
       "<Figure size 864x360 with 1 Axes>"
      ]
     },
     "metadata": {
      "needs_background": "light"
     },
     "output_type": "display_data"
    },
    {
     "name": "stdout",
     "output_type": "stream",
     "text": [
      "Показано наложение гистограмм распеределений выборок для мужчин и женщин. На первый взгляд распределения неотличимы. Невероятным выглядит наличие отрицательного роста и роста выше 3 метров!\n",
      "Нулевая гипотеза (H0): средние значения роста мужчин и женщин не отличаются\n",
      "Альтернативная гипотеза (H1): средние значения роста мужчин и женщин различаются\n",
      "Расчётное значение t-критерия = 3.66, p_value = 0.00025\n",
      "Так как полученное p-значение 0.00025 \"превосходит\" уровень значимости 0.001, то отвергаем нулевую гипотезу и делаем вывод о статистически значимой разнице между средними значениями роста мужчин и женщин\n"
     ]
    }
   ],
   "source": [
    "# Исходные данные\n",
    "np.random.seed(42) #фиксация случайности\n",
    "mens = stats.norm.rvs(loc=171, scale=100, size=150000)  # Выборка мужчин со средним ростом 171\n",
    "womens = stats.norm.rvs(loc=170, scale=100, size=150000)  # Выборка женщин со средним ростом 170\n",
    "𝛼 = 0.001 # Уровень значимости\n",
    "\n",
    "# Покажем визуально гистограммы выборок\n",
    "plt.figure(figsize=(12, 5)) # Размер поля графиков\n",
    "plt.hist(x = mens, # Гистограмма для выборки мужчин\n",
    "         bins = range(-200, 600, 20), # Интервалы гистораммы\n",
    "         color = 'blue', # Цвет столбцов\n",
    "         alpha = 0.5, # Прозрачность столбцов\n",
    "         zorder = 2,\n",
    "         label = 'Мужчины'\n",
    "         )\n",
    "plt.hist(x = womens,\n",
    "         bins = range(-200, 600, 20), \n",
    "         color = 'red',\n",
    "         alpha = 0.5,     \n",
    "         zorder = 2,\n",
    "         label = 'Женщины'\n",
    "         )\n",
    "# Основная сетка\n",
    "plt.grid()\n",
    "# Пределы по осям и надписи\n",
    "plt.xlim(-200, 600)\n",
    "plt.tick_params(labelsize = 'large')\n",
    "plt.title('Распределение роста мужчин и женщин', fontsize = 'x-large', fontweight = 'bold')\n",
    "plt.xlabel('Рост, см', fontsize = 'x-large')\n",
    "plt.ylabel('Количество вхождений в интервалы', fontsize = 'x-large')\n",
    "plt.legend(fontsize = 'large')\n",
    "plt.show()\n",
    "\n",
    "print('Показано наложение гистограмм распеределений выборок для мужчин и женщин. На первый взгляд распределения неотличимы. Невероятным выглядит наличие отрицательного роста и роста выше 3 метров!')\n",
    "# Использем t-Тест Стьдента для сравнения средних величин двух независимых выборок\n",
    "t, p_value = stats.ttest_rel(a = mens, b = womens)\n",
    "print('Нулевая гипотеза (H0): средние значения роста мужчин и женщин не отличаются')\n",
    "print('Альтернативная гипотеза (H1): средние значения роста мужчин и женщин различаются')\n",
    "print(f'Расчётное значение t-критерия = {round(t, 2)}, p_value = {round(p_value, 5)}')\n",
    "print(f'Так как полученное p-значение {round(p_value, 5)} \"превосходит\" уровень значимости {𝛼}, то отвергаем нулевую гипотезу и делаем вывод о статистически значимой разнице между средними значениями роста мужчин и женщин')\n"
   ]
  },
  {
   "cell_type": "markdown",
   "metadata": {},
   "source": [
    "### Задание 3"
   ]
  },
  {
   "cell_type": "code",
   "execution_count": 110,
   "metadata": {},
   "outputs": [
    {
     "name": "stdout",
     "output_type": "stream",
     "text": [
      "Необходимый объём выборки n = 35\n"
     ]
    }
   ],
   "source": [
    "# Исходные данные\n",
    "𝜎 = 150 # Cтандартное отклонение  \n",
    "𝛽 = 0.95 # Уровень доверия \n",
    "Δ = 50 # Погрешность  \n",
    "\n",
    "# Квантиль нормального распределения для двустороннего интервала\n",
    "Z = stats.norm.ppf((1 + 𝛽) / 2) \n",
    "# Необходимый объём выборки\n",
    "n = np.ceil(((Z * 𝜎) / Δ) ** 2)\n",
    "print (f'Необходимый объём выборки n = {int(n)}')"
   ]
  },
  {
   "cell_type": "markdown",
   "metadata": {},
   "source": [
    "### Задание 4"
   ]
  },
  {
   "cell_type": "code",
   "execution_count": 54,
   "metadata": {},
   "outputs": [
    {
     "name": "stdout",
     "output_type": "stream",
     "text": [
      "Нулевая гипотеза (H0): предстказания случайны\n",
      "Альтернативная гипотеза (H1): предсказания способны прогнозировать погоду\n",
      "Точный критерий Фишера даёт расчётное p-значение = 0.35\n",
      "Так как значение точного критерия Фишера 0.35 больше уровня значимости 0.05, то принимаем нулевую гипотезу и делаем вывод об отсутствии статистически значимого преимущества предсказаний\n"
     ]
    }
   ],
   "source": [
    "# Исходные данные\n",
    "observations = pd.DataFrame([[10, 15],[39, 34]],\n",
    "                            index=['Дождь','Солнце'],\n",
    "                            columns=['Верные ответы волшебника','Неверные ответы'])\n",
    "𝛼 = 0.05 # Уровень значимости\n",
    "\n",
    "# Получаем точный критерий Фишера\n",
    "odds_ratio, p_value = stats.fisher_exact(observations)\n",
    "print('Нулевая гипотеза (H0): предстказания случайны')\n",
    "print('Альтернативная гипотеза (H1): предсказания способны прогнозировать погоду')\n",
    "print(f'Точный критерий Фишера даёт расчётное p-значение = {round(p_value, 2)}')\n",
    "print(f'Так как значение точного критерия Фишера {round(p_value, 2)} больше уровня значимости {𝛼}, то принимаем нулевую гипотезу и делаем вывод об отсутствии статистически значимого преимущества предсказаний')"
   ]
  },
  {
   "cell_type": "markdown",
   "metadata": {},
   "source": [
    "### Задание 5"
   ]
  },
  {
   "cell_type": "code",
   "execution_count": 139,
   "metadata": {},
   "outputs": [
    {
     "name": "stdout",
     "output_type": "stream",
     "text": [
      "Доверительный интервал с уровнем доверия 0.9:\n",
      "- нижняя граница 6.09\n",
      "- центр 6.63\n",
      "- верхняя граница 7.17\n"
     ]
    }
   ],
   "source": [
    "# Исходные данные\n",
    "data = [4,5,8,9,6,7,5,6,7,8,5,6,7,0,9,8,4,6,\n",
    "        7,9,8,6,5,7,8,9,6,7,5,8,6,7,9,5,10]\n",
    "𝛽 = 0.9 # Уровень доверия \n",
    "\n",
    "# Создадим функцию для расчёта доверительного интервала\n",
    "def mean_confidence_interval(data, confidence):\n",
    "    n = len(data) # Количество элементов в выборке\n",
    "    if n < 30:\n",
    "        return('В выборке слишком мало элементов: невозможно рассчитать выборочное стандартное отклонение')\n",
    "    mean = np.mean(data) # Среднее арифметическое\n",
    "    s = np.std(data, ddof = 1) # Выборочное стандартное отклонение\n",
    "    # Выборка боее 30 элементов не является малой, поэтому используем нормальное распределение, а не Стьюдента\n",
    "    Z = stats.norm.ppf((1 + confidence) / 2) # Квантиль нормального распределения для двустороннего интервала\n",
    "    delta = (s / (n ** 0.5)) * Z\n",
    "    return (mean - delta, mean, mean + delta)\n",
    "\n",
    "low, mid, high = mean_confidence_interval(data, confidence = 𝛽)\n",
    "print(f'Доверительный интервал с уровнем доверия {𝛽}:\\n- нижняя граница {round(low, 2)}\\n- центр {round(mid, 2)}\\n- верхняя граница {round(high, 2)}')"
   ]
  },
  {
   "cell_type": "markdown",
   "metadata": {},
   "source": [
    "### Задание 6"
   ]
  },
  {
   "cell_type": "code",
   "execution_count": 178,
   "metadata": {},
   "outputs": [
    {
     "data": {
      "image/png": "[encoded data removed]",
      "text/plain": [
       "<Figure size 864x360 with 1 Axes>"
      ]
     },
     "metadata": {
      "needs_background": "light"
     },
     "output_type": "display_data"
    },
    {
     "name": "stdout",
     "output_type": "stream",
     "text": [
      "По графику видно, что распределения выборок А и В различаются.\n",
      "Нулевая гипотеза (H0): средние значения распределений не отличаются\n",
      "Альтернативная гипотеза (H1): средние значения распределений различаются\n",
      "Расчётное значение t-критерия 11.8 гораздо выше критического значения 2,6 для уровня значимости 0,01. Это позволяет отвергнуть нулевую гипотезу и сделать вывод о статистически значимом различии средних значений выборок А и В\n"
     ]
    }
   ],
   "source": [
    "# Исходные данные\n",
    "A = [4,5,8,9,6,7,5,6,7,6,8,5,6,7,8,4,\n",
    "    6,7,9,8,6,5,7,8,6,7,5,6,8,6,7,5,\n",
    "    4,5,8,9,6,7,5,6,7,6,8,5,6,7,8,4,\n",
    "    6,7,9,8,6,5,7,8,6,7,5,6,8,6,7,5,\n",
    "    4,5,8,9,6,7,5,6,7,6,8,5,6,7,8,4,\n",
    "    6,7,9,8,6,5,7,8,6,7,5,6,8,6,7,5,\n",
    "    4,5,8,9,6,7,5,6,7,6,8,5,6,7,8,4]\n",
    "B = [5,6,7,8,4,6,7,2,6,5,7,5,3,5,3,\n",
    "    5,3,5,5,8,7,6,4,5,3,5,4,6,4,5,3,\n",
    "    2,6,4,3,5,4,3,4,5,4,3,4,5,4,3,4,\n",
    "    2,6,4,3,5,4,3,4,5,4,3,4,5,4,3,4,\n",
    "    3,4,4,1,2,4,3,2,4,3,2,1,5,3,4,6,\n",
    "    3,2,4,5,6,4,3,3,5,3,4,4,4,2,5,3]\n",
    "\n",
    "# Покажем визуально гистограммы выборок\n",
    "plt.figure(figsize=(12, 5)) # Размер поля графиков\n",
    "plt.hist(x = A, # Гистограмма для первой выборки\n",
    "         bins = range(0, 10), # Интервалы гистораммы\n",
    "         color = 'blue', # Цвет столбцов\n",
    "         alpha = 0.5, # Прозрачность столбцов\n",
    "         zorder = 2,\n",
    "         label = 'Выборка A'\n",
    "         )\n",
    "plt.hist(x = B,\n",
    "         bins = range(0, 10), \n",
    "         color = 'red',\n",
    "         alpha = 0.5,     \n",
    "         zorder = 2,\n",
    "         label = 'Выборка B'\n",
    "         )\n",
    "# Основная сетка\n",
    "plt.grid()\n",
    "# # Пределы по осям и надписи\n",
    "plt.xlim(0, 10)\n",
    "plt.xticks(range(0, 11))\n",
    "plt.tick_params(labelsize = 'large')\n",
    "plt.title('Сравнение выборок А и В', fontsize = 'x-large', fontweight = 'bold')\n",
    "plt.xlabel('Интервалы значений', fontsize = 'x-large')\n",
    "plt.ylabel('Количество вхождений в интервалы', fontsize = 'x-large')\n",
    "plt.legend(fontsize = 'large')\n",
    "plt.show()\n",
    "print('По графику видно, что распределения выборок А и В различаются.')\n",
    "\n",
    "# Проверим с помощью t-теста Стьдента\n",
    "# Функция stats.ttest_rel() требует одинаковые размерности выборок, поэтому реализуем расчёты самостоятельно\n",
    "t_value = (np.mean(A) - np.mean(B)) / ((np.var(A, ddof = 1) / len(A) + np.var(B, ddof = 1) / len(B)) ** 0.5)\n",
    "print('Нулевая гипотеза (H0): средние значения распределений не отличаются')\n",
    "print('Альтернативная гипотеза (H1): средние значения распределений различаются')\n",
    "print(f'Расчётное значение t-критерия {round(t_value, 2)} гораздо выше критического значения 2,6 для уровня значимости 0,01. Это позволяет отвергнуть нулевую гипотезу и сделать вывод о статистически значимом различии средних значений выборок А и В')\n",
    "# print(f'Так как значение точного критерия Фишера {round(p_value, 2)} бол"
   ]
  },
  {
   "cell_type": "markdown",
   "metadata": {},
   "source": [
    "### Задание 7"
   ]
  },
  {
   "cell_type": "markdown",
   "metadata": {},
   "source": [
    "Сперва необходимо задать требуемый уровень значимости. В большинстве случаев его принимают 0,05. Так как уровень значимости теста p-value = 0.03 \"превосходит\" требуемый уровень значимости, то отвергаем нулевую гипотезу и делаем вывод о том, что распределение не является нормальным. Если необходима повышенная точность, например требуемый уровень значимости 0,01, то полученные результаты не позволяют отвергнуть нулевую гипотезу."
   ]
  },
  {
   "cell_type": "code",
   "execution_count": 196,
   "metadata": {},
   "outputs": [
    {
     "data": {
      "image/png": "[encoded data removed]",
      "text/plain": [
       "<Figure size 864x360 with 1 Axes>"
      ]
     },
     "metadata": {
      "needs_background": "light"
     },
     "output_type": "display_data"
    },
    {
     "name": "stdout",
     "output_type": "stream",
     "text": [
      "По графику видно, что распределения выборок А и В визуально различаются слабо\n",
      "Нулевая гипотеза (H0): эффективность препаратов А и В одинакова\n",
      "Альтернативная гипотеза (H1): эффективность препаратов А и В различается\n",
      "Расчётное p-значение 0.04 \"превосходит\" требуемый уровень значимости 0,05, что позволяет отвергнуть нулевую гипотезу и сделать вывод о статистически значимом различии эффективности препаратов А и В\n",
      "Различия в эффективности препаратов А и В значимы при p-значении не более 0,05, минимального значения не существует\n"
     ]
    }
   ],
   "source": [
    "# Исходные данные\n",
    "np.random.seed(11)\n",
    "A = stats.norm.rvs(scale=15, loc=169, size=300)\n",
    "B = stats.norm.rvs(scale=14, loc=171.4, size=300)\n",
    "\n",
    "# Покажем визуально гистограммы выборок\n",
    "plt.figure(figsize=(12, 5)) # Размер поля графиков\n",
    "plt.hist(x = A, # Гистограмма для первой выборки\n",
    "         bins = range(120, 220, 5), # Интервалы гистораммы\n",
    "         color = 'blue', # Цвет столбцов\n",
    "         alpha = 0.5, # Прозрачность столбцов\n",
    "         zorder = 2,\n",
    "         label = 'Выборка A'\n",
    "         )\n",
    "plt.hist(x = B,\n",
    "         bins = range(120, 220, 5), \n",
    "         color = 'red',\n",
    "         alpha = 0.5,     \n",
    "         zorder = 2,\n",
    "         label = 'Выборка B'\n",
    "         )\n",
    "# Основная сетка\n",
    "plt.grid()\n",
    "# # Пределы по осям и надписи\n",
    "plt.xlim(120, 220)\n",
    "plt.tick_params(labelsize = 'large')\n",
    "plt.title('Сравнение выборок А и В', fontsize = 'x-large', fontweight = 'bold')\n",
    "plt.xlabel('Интервалы значений', fontsize = 'x-large')\n",
    "plt.ylabel('Количество вхождений в интервалы', fontsize = 'x-large')\n",
    "plt.legend(fontsize = 'large')\n",
    "plt.show()\n",
    "print('По графику видно, что распределения выборок А и В визуально различаются слабо')\n",
    "\n",
    "# Предположим, что выборки независимы, используем t-тест Стьдента\n",
    "t, p_value = stats.ttest_rel(a = A, b = B)\n",
    "print('Нулевая гипотеза (H0): эффективность препаратов А и В одинакова')\n",
    "print('Альтернативная гипотеза (H1): эффективность препаратов А и В различается')\n",
    "print(f'Расчётное p-значение {round(p_value, 2)} \"превосходит\" требуемый уровень значимости 0,05, что позволяет отвергнуть нулевую гипотезу и сделать вывод о статистически значимом различии эффективности препаратов А и В')\n",
    "print('Различия в эффективности препаратов А и В значимы при p-значении не более 0,05, минимального значения не существует')"
   ]
  }
 ],
 "metadata": {
  "kernelspec": {
   "display_name": "Python 3",
   "language": "python",
   "name": "python3"
  },
  "language_info": {
   "codemirror_mode": {
    "name": "ipython",
    "version": 3
   },
   "file_extension": ".py",
   "mimetype": "text/x-python",
   "name": "python",
   "nbconvert_exporter": "python",
   "pygments_lexer": "ipython3",
   "version": "3.8.5"
  }
 },
 "nbformat": 4,
 "nbformat_minor": 4
}
